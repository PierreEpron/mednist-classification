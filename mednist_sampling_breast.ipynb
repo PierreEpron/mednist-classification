{
 "cells": [
  {
   "cell_type": "code",
   "execution_count": 2,
   "metadata": {},
   "outputs": [],
   "source": [
    "import pandas as pd\n",
    "import numpy as np\n",
    "from glob import glob\n",
    "from pathlib import Path\n",
    "from pydicom import dcmread\n",
    "from skimage.io import imsave, imread\n",
    "from skimage.transform import resize\n",
    "import matplotlib.pyplot as plt\n",
    "import random\n",
    "import re\n",
    "from IPython.display import clear_output\n",
    "from functools import reduce"
   ]
  },
  {
   "cell_type": "markdown",
   "metadata": {},
   "source": [
    "# Find some intersting imgs"
   ]
  },
  {
   "cell_type": "code",
   "execution_count": 6,
   "metadata": {},
   "outputs": [
    {
     "data": {
      "text/plain": [
       "[WindowsPath('../breast/manifest-1628804294858/Duke-Breast-Cancer-MRI/Breast_MRI_001/01-01-1990-NA-MRI BREAST BILATERAL WWO-97538/26.000000-ax t1 tse c-58582'),\n",
       " WindowsPath('../breast/manifest-1628804294858/Duke-Breast-Cancer-MRI/Breast_MRI_002/01-01-1990-NA-MRI BREAST BILATERAL W  WO-51972/3.000000-ax t1-40797'),\n",
       " WindowsPath('../breast/manifest-1628804294858/Duke-Breast-Cancer-MRI/Breast_MRI_003/01-01-1990-NA-MRI BREAST BILATERAL WWO-87435/3.000000-ax t1-86304'),\n",
       " WindowsPath('../breast/manifest-1628804294858/Duke-Breast-Cancer-MRI/Breast_MRI_004/01-01-1990-NA-MRI BREAST BILATERAL WWO-68914/3.000000-ax t1-53698'),\n",
       " WindowsPath('../breast/manifest-1628804294858/Duke-Breast-Cancer-MRI/Breast_MRI_005/01-01-1990-NA-BREASTROUTINE CA-77718/2.000000-ax t1-53433'),\n",
       " WindowsPath('../breast/manifest-1628804294858/Duke-Breast-Cancer-MRI/Breast_MRI_006/01-01-1990-NA-MRI BREAST BILATERAL WWO-27236/3.000000-ax t1-43781'),\n",
       " WindowsPath('../breast/manifest-1628804294858/Duke-Breast-Cancer-MRI/Breast_MRI_007/01-01-1990-NA-BREASTROUTINE-39586/2.000000-ax 3d t1 bilateral-11955'),\n",
       " WindowsPath('../breast/manifest-1628804294858/Duke-Breast-Cancer-MRI/Breast_MRI_008/01-01-1990-NA-MRI BREAST BILATERAL WWO-56538/25.000000-ax t1 tse c-51981'),\n",
       " WindowsPath('../breast/manifest-1628804294858/Duke-Breast-Cancer-MRI/Breast_MRI_009/01-01-1990-NA-MRI BREAST BILATERAL W  WO-71702/3.000000-ax t1-95549'),\n",
       " WindowsPath('../breast/manifest-1628804294858/Duke-Breast-Cancer-MRI/Breast_MRI_010/01-01-1990-NA-MRI BREAST BILATERAL WWO-92212/3.000000-ax t1-22923')]"
      ]
     },
     "execution_count": 6,
     "metadata": {},
     "output_type": "execute_result"
    }
   ],
   "source": [
    "paths = [Path(path) for path in glob('../breast/*/*/*/*/*/') if re.search(r't1', path, re.I)]\n",
    "paths"
   ]
  },
  {
   "cell_type": "code",
   "execution_count": 7,
   "metadata": {},
   "outputs": [],
   "source": [
    "paths = reduce(lambda a, b: a+b,  [glob(str(path / '*')) for path in paths])"
   ]
  },
  {
   "cell_type": "code",
   "execution_count": 8,
   "metadata": {},
   "outputs": [
    {
     "data": {
      "text/plain": [
       "Dataset.file_meta -------------------------------\n",
       "(0002, 0000) File Meta Information Group Length  UL: 204\n",
       "(0002, 0001) File Meta Information Version       OB: b'\\x00\\x01'\n",
       "(0002, 0002) Media Storage SOP Class UID         UI: MR Image Storage\n",
       "(0002, 0003) Media Storage SOP Instance UID      UI: 1.3.6.1.4.1.14519.5.2.1.210062012468375413079275155624796278039\n",
       "(0002, 0010) Transfer Syntax UID                 UI: Implicit VR Little Endian\n",
       "(0002, 0012) Implementation Class UID            UI: 1.3.6.1.4.1.22213.1.143\n",
       "(0002, 0013) Implementation Version Name         SH: '0.5'\n",
       "(0002, 0016) Source Application Entity Title     AE: 'POSDA'\n",
       "-------------------------------------------------\n",
       "(0008, 0005) Specific Character Set              CS: 'ISO_IR 100'\n",
       "(0008, 0008) Image Type                          CS: ['ORIGINAL', 'PRIMARY', 'M', 'ND']\n",
       "(0008, 0012) Instance Creation Date              DA: '19900101'\n",
       "(0008, 0013) Instance Creation Time              TM: '084915.734000'\n",
       "(0008, 0016) SOP Class UID                       UI: MR Image Storage\n",
       "(0008, 0018) SOP Instance UID                    UI: 1.3.6.1.4.1.14519.5.2.1.210062012468375413079275155624796278039\n",
       "(0008, 0020) Study Date                          DA: '19900101'\n",
       "(0008, 0021) Series Date                         DA: '19900101'\n",
       "(0008, 0022) Acquisition Date                    DA: '19900101'\n",
       "(0008, 0023) Content Date                        DA: '19900101'\n",
       "(0008, 0030) Study Time                          TM: '080801.515000'\n",
       "(0008, 0031) Series Time                         TM: '084633.359000'\n",
       "(0008, 0032) Acquisition Time                    TM: '084848.985000'\n",
       "(0008, 0033) Content Time                        TM: '084915.734000'\n",
       "(0008, 0050) Accession Number                    SH: ''\n",
       "(0008, 0060) Modality                            CS: 'MR'\n",
       "(0008, 0070) Manufacturer                        LO: 'SIEMENS'\n",
       "(0008, 0090) Referring Physician's Name          PN: ''\n",
       "(0008, 1030) Study Description                   LO: 'MRI BREAST BILATERAL W/WO'\n",
       "(0008, 1032)  Procedure Code Sequence  1 item(s) ---- \n",
       "   (0008, 0100) Code Value                          SH: '0085X'\n",
       "   (0008, 0102) Coding Scheme Designator            SH: 'GEIIS'\n",
       "   (0008, 0103) Coding Scheme Version               SH: '0'\n",
       "   (0008, 0104) Code Meaning                        LO: 'MRI BREAST BILATERAL W WO'\n",
       "   ---------\n",
       "(0008, 103e) Series Description                  LO: 'ax t1 tse +c'\n",
       "(0008, 1090) Manufacturer's Model Name           LO: 'Avanto'\n",
       "(0010, 0010) Patient's Name                      PN: 'Breast_MRI_001'\n",
       "(0010, 0020) Patient ID                          LO: 'Breast_MRI_001'\n",
       "(0010, 0030) Patient's Birth Date                DA: ''\n",
       "(0010, 0040) Patient's Sex                       CS: 'F'\n",
       "(0010, 1010) Patient's Age                       AS: '041Y'\n",
       "(0010, 1020) Patient's Size                      DS: '1.6002032025'\n",
       "(0010, 1030) Patient's Weight                    DS: '90.2648931123'\n",
       "(0010, 21c0) Pregnancy Status                    US: 4\n",
       "(0010, 4000) Patient Comments                    LT: ''\n",
       "(0012, 0062) Patient Identity Removed            CS: 'YES'\n",
       "(0012, 0063) De-identification Method            LO: 'DICOMANON (rev R2010a) - PS 3.15-2008 Table E.1-1 - nondefault'\n",
       "(0013, 0010) Private Creator                     LO: 'CTP'\n",
       "(0013, 1010) Private tag data                    UN: Array of 22 elements\n",
       "(0013, 1013) Private tag data                    UN: b'88622928'\n",
       "(0018, 0010) Contrast/Bolus Agent                LO: 'Magnevist'\n",
       "(0018, 0015) Body Part Examined                  CS: 'BREAST'\n",
       "(0018, 0020) Scanning Sequence                   CS: 'SE'\n",
       "(0018, 0021) Sequence Variant                    CS: ['SK', 'SP', 'OSP']\n",
       "(0018, 0022) Scan Options                        CS: ''\n",
       "(0018, 0023) MR Acquisition Type                 CS: '2D'\n",
       "(0018, 0025) Angio Flag                          CS: 'N'\n",
       "(0018, 0050) Slice Thickness                     DS: '3.0'\n",
       "(0018, 0080) Repetition Time                     DS: '600.0'\n",
       "(0018, 0081) Echo Time                           DS: '12.0'\n",
       "(0018, 0083) Number of Averages                  DS: '1.0'\n",
       "(0018, 0084) Imaging Frequency                   DS: '63.67636'\n",
       "(0018, 0085) Imaged Nucleus                      SH: '1H'\n",
       "(0018, 0086) Echo Number(s)                      IS: '1'\n",
       "(0018, 0087) Magnetic Field Strength             DS: '1.5'\n",
       "(0018, 0088) Spacing Between Slices              DS: '3.99'\n",
       "(0018, 0089) Number of Phase Encoding Steps      IS: '308'\n",
       "(0018, 0091) Echo Train Length                   IS: '7'\n",
       "(0018, 0093) Percent Sampling                    DS: '80.0'\n",
       "(0018, 0094) Percent Phase Field of View         DS: '100.0'\n",
       "(0018, 0095) Pixel Bandwidth                     DS: '130.0'\n",
       "(0018, 1000) Device Serial Number                LO: ''\n",
       "(0018, 1020) Software Versions                   LO: 'syngo MR B13 4VB13A'\n",
       "(0018, 1030) Protocol Name                       LO: ''\n",
       "(0018, 1041) Contrast/Bolus Volume               DS: '18.0'\n",
       "(0018, 1044) Contrast/Bolus Total Dose           DS: '0.0'\n",
       "(0018, 1048) Contrast/Bolus Ingredient           CS: ''\n",
       "(0018, 1049) Contrast/Bolus Ingredient Concentra DS: '0.0'\n",
       "(0018, 1200) Date of Last Calibration            DA: '19900101'\n",
       "(0018, 1251) Transmit Coil Name                  SH: 'Body'\n",
       "(0018, 1310) Acquisition Matrix                  US: [0, 256, 205, 0]\n",
       "(0018, 1312) In-plane Phase Encoding Direction   CS: 'ROW'\n",
       "(0018, 1314) Flip Angle                          DS: '180.0'\n",
       "(0018, 1315) Variable Flip Angle Flag            CS: 'N'\n",
       "(0018, 1316) SAR                                 DS: '2.270571685244'\n",
       "(0018, 1318) dB/dt                               DS: '0.0'\n",
       "(0018, 5100) Patient Position                    CS: 'FFP'\n",
       "(0020, 000d) Study Instance UID                  UI: 1.3.6.1.4.1.14519.5.2.1.186051521067863971269584893740842397538\n",
       "(0020, 000e) Series Instance UID                 UI: 1.3.6.1.4.1.14519.5.2.1.175414966301645518238419021688341658582\n",
       "(0020, 0010) Study ID                            SH: ''\n",
       "(0020, 0011) Series Number                       IS: '26'\n",
       "(0020, 0012) Acquisition Number                  IS: '1'\n",
       "(0020, 0013) Instance Number                     IS: '1'\n",
       "(0020, 0032) Image Position (Patient)            DS: [-181.59980573819, -166.12590786308, 81.321770210125]\n",
       "(0020, 0037) Image Orientation (Patient)         DS: [0.9993283937409, -2.051034E-10, 0.036643709737, 2.049657E-10, 1, 7.5158E-12]\n",
       "(0020, 0052) Frame of Reference UID              UI: 1.3.6.1.4.1.14519.5.2.1.45736569925431297170708374639092465328\n",
       "(0020, 1040) Position Reference Indicator        LO: ''\n",
       "(0020, 1041) Slice Location                      DS: '87.921644570021'\n",
       "(0028, 0002) Samples per Pixel                   US: 1\n",
       "(0028, 0004) Photometric Interpretation          CS: 'MONOCHROME2'\n",
       "(0028, 0010) Rows                                US: 256\n",
       "(0028, 0011) Columns                             US: 256\n",
       "(0028, 0030) Pixel Spacing                       DS: [1.328125, 1.328125]\n",
       "(0028, 0100) Bits Allocated                      US: 16\n",
       "(0028, 0101) Bits Stored                         US: 12\n",
       "(0028, 0102) High Bit                            US: 11\n",
       "(0028, 0103) Pixel Representation                US: 0\n",
       "(0028, 0106) Smallest Image Pixel Value          US: 0\n",
       "(0028, 0107) Largest Image Pixel Value           US: 501\n",
       "(0028, 1050) Window Center                       DS: '225.0'\n",
       "(0028, 1051) Window Width                        DS: '527.0'\n",
       "(0032, 1060) Requested Procedure Description     LO: 'MRI BREAST BILATERAL W + W/O'\n",
       "(0040, 0254) Performed Procedure Step Descriptio LO: 'MRI BREAST BILATERAL W + W/O'\n",
       "(0040, 2017) Filler Order Number / Imaging Servi LO: ''\n",
       "(0088, 0140) Storage Media File-set UID          UI: 1.3.6.1.4.1.14519.5.2.1.281949768489412648962353822266799178366\n",
       "(7fe0, 0010) Pixel Data                          OW: Array of 131072 elements"
      ]
     },
     "execution_count": 8,
     "metadata": {},
     "output_type": "execute_result"
    }
   ],
   "source": [
    "ds = dcmread(paths[0])\n",
    "ds"
   ]
  },
  {
   "cell_type": "code",
   "execution_count": 9,
   "metadata": {},
   "outputs": [
    {
     "data": {
      "text/plain": [
       "Breast_MRI_007    224\n",
       "Breast_MRI_004     90\n",
       "Breast_MRI_003     64\n",
       "Breast_MRI_002     60\n",
       "Breast_MRI_009     58\n",
       "Breast_MRI_005     58\n",
       "Breast_MRI_006     53\n",
       "Breast_MRI_010     52\n",
       "Breast_MRI_001     42\n",
       "Breast_MRI_008     37\n",
       "dtype: int64"
      ]
     },
     "execution_count": 9,
     "metadata": {},
     "output_type": "execute_result"
    }
   ],
   "source": [
    "names = [str(dcmread(path).PatientName) for path in paths]\n",
    "pd.Series(names).value_counts()"
   ]
  },
  {
   "cell_type": "code",
   "execution_count": 11,
   "metadata": {
    "scrolled": true
   },
   "outputs": [
    {
     "name": "stdout",
     "output_type": "stream",
     "text": [
      "738/738 (100.00)\n"
     ]
    }
   ],
   "source": [
    "sizes = []\n",
    "for i, path in enumerate(paths):\n",
    "    y = dcmread(path).pixel_array\n",
    "    sizes.append(y.shape)\n",
    "    if(y.min() < y.max()):  \n",
    "        y = (y - y.min())/(y.max() - y.min()) \n",
    "    z = y - y.mean()  \n",
    "    imsave(\n",
    "        f'not_resized/breast/{str(i).zfill(6)}.jpeg', \n",
    "        (z.clip(0, 1) * 255).astype(np.uint8))\n",
    "    clear_output(wait=True)\n",
    "    print(f'{i+1}/{len(paths)} ({(i+1)/len(paths)*100:.2f})')        "
   ]
  },
  {
   "cell_type": "code",
   "execution_count": 12,
   "metadata": {},
   "outputs": [
    {
     "data": {
      "text/plain": [
       "(512, 512)    287\n",
       "(448, 448)    224\n",
       "(256, 256)    169\n",
       "(320, 320)     58\n",
       "dtype: int64"
      ]
     },
     "execution_count": 12,
     "metadata": {},
     "output_type": "execute_result"
    }
   ],
   "source": [
    "pd.Series(sizes).value_counts()"
   ]
  },
  {
   "cell_type": "code",
   "execution_count": null,
   "metadata": {},
   "outputs": [],
   "source": []
  },
  {
   "cell_type": "code",
   "execution_count": null,
   "metadata": {},
   "outputs": [],
   "source": []
  },
  {
   "cell_type": "code",
   "execution_count": null,
   "metadata": {},
   "outputs": [],
   "source": []
  }
 ],
 "metadata": {
  "kernelspec": {
   "display_name": "mednist",
   "language": "python",
   "name": "mednist"
  },
  "language_info": {
   "codemirror_mode": {
    "name": "ipython",
    "version": 3
   },
   "file_extension": ".py",
   "mimetype": "text/x-python",
   "name": "python",
   "nbconvert_exporter": "python",
   "pygments_lexer": "ipython3",
   "version": "3.6.13"
  },
  "latex_envs": {
   "LaTeX_envs_menu_present": true,
   "autoclose": false,
   "autocomplete": true,
   "bibliofile": "biblio.bib",
   "cite_by": "apalike",
   "current_citInitial": 1,
   "eqLabelWithNumbers": true,
   "eqNumInitial": 1,
   "hotkeys": {
    "equation": "Ctrl-E",
    "itemize": "Ctrl-I"
   },
   "labels_anchors": false,
   "latex_user_defs": false,
   "report_style_numbering": false,
   "user_envs_cfg": false
  },
  "toc": {
   "base_numbering": 1,
   "nav_menu": {},
   "number_sections": true,
   "sideBar": true,
   "skip_h1_title": false,
   "title_cell": "Table of Contents",
   "title_sidebar": "Contents",
   "toc_cell": false,
   "toc_position": {},
   "toc_section_display": true,
   "toc_window_display": false
  }
 },
 "nbformat": 4,
 "nbformat_minor": 4
}
